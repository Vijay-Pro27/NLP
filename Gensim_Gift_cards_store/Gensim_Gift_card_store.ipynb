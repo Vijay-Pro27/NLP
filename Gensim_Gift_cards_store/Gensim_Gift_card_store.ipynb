{
 "cells": [
  {
   "cell_type": "code",
   "execution_count": 1,
   "id": "9744cae6",
   "metadata": {},
   "outputs": [],
   "source": [
    "import gensim\n",
    "import pandas as pd "
   ]
  },
  {
   "cell_type": "code",
   "execution_count": 2,
   "id": "877d02b2",
   "metadata": {},
   "outputs": [],
   "source": [
    "import json\n",
    "import pandas as pd\n",
    "with open(\"reviews_Gift_Cards_Store.json\") as f:\n",
    "    df = pd.DataFrame([json.loads(l) for l in f.readlines()])\n"
   ]
  },
  {
   "cell_type": "code",
   "execution_count": 3,
   "id": "c1a77ff5",
   "metadata": {},
   "outputs": [
    {
     "data": {
      "text/html": [
       "<div>\n",
       "<style scoped>\n",
       "    .dataframe tbody tr th:only-of-type {\n",
       "        vertical-align: middle;\n",
       "    }\n",
       "\n",
       "    .dataframe tbody tr th {\n",
       "        vertical-align: top;\n",
       "    }\n",
       "\n",
       "    .dataframe thead th {\n",
       "        text-align: right;\n",
       "    }\n",
       "</style>\n",
       "<table border=\"1\" class=\"dataframe\">\n",
       "  <thead>\n",
       "    <tr style=\"text-align: right;\">\n",
       "      <th></th>\n",
       "      <th>reviewerID</th>\n",
       "      <th>asin</th>\n",
       "      <th>reviewerName</th>\n",
       "      <th>helpful</th>\n",
       "      <th>reviewText</th>\n",
       "      <th>overall</th>\n",
       "      <th>summary</th>\n",
       "      <th>unixReviewTime</th>\n",
       "      <th>reviewTime</th>\n",
       "    </tr>\n",
       "  </thead>\n",
       "  <tbody>\n",
       "    <tr>\n",
       "      <th>0</th>\n",
       "      <td>A17VLSOI3HAW1L</td>\n",
       "      <td>B00067L6TQ</td>\n",
       "      <td>achieve22</td>\n",
       "      <td>[4, 10]</td>\n",
       "      <td>I received an Amazon Gift Card for $100.00 for...</td>\n",
       "      <td>1.0</td>\n",
       "      <td>Amazon Gift Cards- a waste of time and your money</td>\n",
       "      <td>1364083200</td>\n",
       "      <td>03 24, 2013</td>\n",
       "    </tr>\n",
       "    <tr>\n",
       "      <th>1</th>\n",
       "      <td>A2M1LUNL05ZUDZ</td>\n",
       "      <td>B00067L6TQ</td>\n",
       "      <td>Amazon Customer</td>\n",
       "      <td>[31, 36]</td>\n",
       "      <td>Not sure what the problem with Gift Certificat...</td>\n",
       "      <td>5.0</td>\n",
       "      <td>Excellent - not sure what's so hard...</td>\n",
       "      <td>1193184000</td>\n",
       "      <td>10 24, 2007</td>\n",
       "    </tr>\n",
       "    <tr>\n",
       "      <th>2</th>\n",
       "      <td>A1WFSUU1T6ALHA</td>\n",
       "      <td>B00067L6TQ</td>\n",
       "      <td>Amazon Customer</td>\n",
       "      <td>[3, 3]</td>\n",
       "      <td>I have been an Amazon Prime member for quite s...</td>\n",
       "      <td>5.0</td>\n",
       "      <td>No issues here</td>\n",
       "      <td>1328400000</td>\n",
       "      <td>02 5, 2012</td>\n",
       "    </tr>\n",
       "    <tr>\n",
       "      <th>3</th>\n",
       "      <td>A2US7IDTC78CSQ</td>\n",
       "      <td>B00067L6TQ</td>\n",
       "      <td>Amazon Customer</td>\n",
       "      <td>[4, 6]</td>\n",
       "      <td>My daughter purchased a Amazon gift card for m...</td>\n",
       "      <td>1.0</td>\n",
       "      <td>Not satisfied</td>\n",
       "      <td>1311638400</td>\n",
       "      <td>07 26, 2011</td>\n",
       "    </tr>\n",
       "    <tr>\n",
       "      <th>4</th>\n",
       "      <td>A2D9V91E01XJYL</td>\n",
       "      <td>B00067L6TQ</td>\n",
       "      <td>Amazon Customer</td>\n",
       "      <td>[8, 9]</td>\n",
       "      <td>I purchased 2-$25 gift cards from my local gro...</td>\n",
       "      <td>1.0</td>\n",
       "      <td>Is Amazon Looking into This?</td>\n",
       "      <td>1379030400</td>\n",
       "      <td>09 13, 2013</td>\n",
       "    </tr>\n",
       "  </tbody>\n",
       "</table>\n",
       "</div>"
      ],
      "text/plain": [
       "       reviewerID        asin     reviewerName   helpful  \\\n",
       "0  A17VLSOI3HAW1L  B00067L6TQ        achieve22   [4, 10]   \n",
       "1  A2M1LUNL05ZUDZ  B00067L6TQ  Amazon Customer  [31, 36]   \n",
       "2  A1WFSUU1T6ALHA  B00067L6TQ  Amazon Customer    [3, 3]   \n",
       "3  A2US7IDTC78CSQ  B00067L6TQ  Amazon Customer    [4, 6]   \n",
       "4  A2D9V91E01XJYL  B00067L6TQ  Amazon Customer    [8, 9]   \n",
       "\n",
       "                                          reviewText  overall  \\\n",
       "0  I received an Amazon Gift Card for $100.00 for...      1.0   \n",
       "1  Not sure what the problem with Gift Certificat...      5.0   \n",
       "2  I have been an Amazon Prime member for quite s...      5.0   \n",
       "3  My daughter purchased a Amazon gift card for m...      1.0   \n",
       "4  I purchased 2-$25 gift cards from my local gro...      1.0   \n",
       "\n",
       "                                             summary  unixReviewTime  \\\n",
       "0  Amazon Gift Cards- a waste of time and your money      1364083200   \n",
       "1             Excellent - not sure what's so hard...      1193184000   \n",
       "2                                     No issues here      1328400000   \n",
       "3                                      Not satisfied      1311638400   \n",
       "4                       Is Amazon Looking into This?      1379030400   \n",
       "\n",
       "    reviewTime  \n",
       "0  03 24, 2013  \n",
       "1  10 24, 2007  \n",
       "2   02 5, 2012  \n",
       "3  07 26, 2011  \n",
       "4  09 13, 2013  "
      ]
     },
     "execution_count": 3,
     "metadata": {},
     "output_type": "execute_result"
    }
   ],
   "source": [
    "df.head()"
   ]
  },
  {
   "cell_type": "code",
   "execution_count": 4,
   "id": "f343dd76",
   "metadata": {},
   "outputs": [
    {
     "data": {
      "text/plain": [
       "5                         Extremely Useful for Gifting\n",
       "6                                       Quick delivery\n",
       "7    Great way to give a gift - it's quick, easy, a...\n",
       "8                    Just please send me cash instead!\n",
       "9    Perfect gift and perfect for my Kindle needs a...\n",
       "Name: summary, dtype: object"
      ]
     },
     "execution_count": 4,
     "metadata": {},
     "output_type": "execute_result"
    }
   ],
   "source": [
    "df.summary[5:10]"
   ]
  },
  {
   "cell_type": "code",
   "execution_count": 5,
   "id": "14ac7d74",
   "metadata": {},
   "outputs": [
    {
     "data": {
      "text/plain": [
       "0    [received, an, amazon, gift, card, for, for, t...\n",
       "1    [not, sure, what, the, problem, with, gift, ce...\n",
       "Name: reviewText, dtype: object"
      ]
     },
     "execution_count": 5,
     "metadata": {},
     "output_type": "execute_result"
    }
   ],
   "source": [
    "review_text = df.reviewText.apply(gensim.utils.simple_preprocess)\n",
    "review_text[:2]"
   ]
  },
  {
   "cell_type": "code",
   "execution_count": 6,
   "id": "eee4d678",
   "metadata": {},
   "outputs": [],
   "source": [
    "model = gensim.models.Word2Vec(review_text, window=10, min_count=2, workers=8)"
   ]
  },
  {
   "cell_type": "code",
   "execution_count": 7,
   "id": "63ad0eed",
   "metadata": {},
   "outputs": [],
   "source": [
    "model.build_vocab(review_text,progress_per=10000)"
   ]
  },
  {
   "cell_type": "code",
   "execution_count": 8,
   "id": "cb1cb591",
   "metadata": {},
   "outputs": [
    {
     "data": {
      "text/plain": [
       "5"
      ]
     },
     "execution_count": 8,
     "metadata": {},
     "output_type": "execute_result"
    }
   ],
   "source": [
    "model.epochs"
   ]
  },
  {
   "cell_type": "code",
   "execution_count": 9,
   "id": "ec886b11",
   "metadata": {},
   "outputs": [
    {
     "data": {
      "text/plain": [
       "(222040, 326540)"
      ]
     },
     "execution_count": 9,
     "metadata": {},
     "output_type": "execute_result"
    }
   ],
   "source": [
    "model.train(review_text, total_examples=model.corpus_count, epochs=model.epochs)"
   ]
  },
  {
   "cell_type": "code",
   "execution_count": 10,
   "id": "ada1aee4",
   "metadata": {},
   "outputs": [
    {
     "data": {
      "text/plain": [
       "0.98911035"
      ]
     },
     "execution_count": 10,
     "metadata": {},
     "output_type": "execute_result"
    }
   ],
   "source": [
    "model.wv.similarity(\"amazon\",\"hello\")"
   ]
  },
  {
   "cell_type": "code",
   "execution_count": 11,
   "id": "073628c6",
   "metadata": {},
   "outputs": [],
   "source": [
    "model2 = gensim.models.FastText(review_text, window=10, min_count=2, workers=8)"
   ]
  },
  {
   "cell_type": "code",
   "execution_count": 12,
   "id": "67972c26",
   "metadata": {},
   "outputs": [
    {
     "data": {
      "text/plain": [
       "(221892, 326540)"
      ]
     },
     "execution_count": 12,
     "metadata": {},
     "output_type": "execute_result"
    }
   ],
   "source": [
    "model2.train(review_text, total_examples=model.corpus_count, epochs=model.epochs)"
   ]
  },
  {
   "cell_type": "code",
   "execution_count": 14,
   "id": "382786ac",
   "metadata": {},
   "outputs": [
    {
     "data": {
      "text/plain": [
       "0.8911869"
      ]
     },
     "execution_count": 14,
     "metadata": {},
     "output_type": "execute_result"
    }
   ],
   "source": [
    "model2.wv.similarity(\"amazon\",\"hello\")"
   ]
  },
  {
   "cell_type": "code",
   "execution_count": 17,
   "id": "8666dedd",
   "metadata": {},
   "outputs": [],
   "source": [
    "data = []\n",
    "corpus = [[data.append(word) for word in text] for text in review_text]"
   ]
  },
  {
   "cell_type": "code",
   "execution_count": 20,
   "id": "e850c0e1",
   "metadata": {
    "scrolled": true
   },
   "outputs": [
    {
     "data": {
      "text/plain": [
       "65308"
      ]
     },
     "execution_count": 20,
     "metadata": {},
     "output_type": "execute_result"
    }
   ],
   "source": [
    "len(data)"
   ]
  },
  {
   "cell_type": "code",
   "execution_count": 23,
   "id": "17d623c9",
   "metadata": {},
   "outputs": [],
   "source": [
    "import numpy as np"
   ]
  },
  {
   "cell_type": "code",
   "execution_count": 32,
   "id": "c5b4e218",
   "metadata": {},
   "outputs": [
    {
     "ename": "TypeError",
     "evalue": "doc2bow expects an array of unicode tokens on input, not a single string",
     "output_type": "error",
     "traceback": [
      "\u001b[1;31m---------------------------------------------------------------------------\u001b[0m",
      "\u001b[1;31mTypeError\u001b[0m                                 Traceback (most recent call last)",
      "Input \u001b[1;32mIn [32]\u001b[0m, in \u001b[0;36m<cell line: 1>\u001b[1;34m()\u001b[0m\n\u001b[1;32m----> 1\u001b[0m input_dict \u001b[38;5;241m=\u001b[39m \u001b[43mgensim\u001b[49m\u001b[38;5;241;43m.\u001b[39;49m\u001b[43mcorpora\u001b[49m\u001b[38;5;241;43m.\u001b[39;49m\u001b[43mDictionary\u001b[49m\u001b[43m(\u001b[49m\u001b[43mdata\u001b[49m\u001b[43m)\u001b[49m\n\u001b[0;32m      2\u001b[0m input_corpus \u001b[38;5;241m=\u001b[39m [input_dict\u001b[38;5;241m.\u001b[39mdoc2bow(token, allow_update\u001b[38;5;241m=\u001b[39m\u001b[38;5;28;01mTrue\u001b[39;00m) \u001b[38;5;28;01mfor\u001b[39;00m token \u001b[38;5;129;01min\u001b[39;00m np\u001b[38;5;241m.\u001b[39marray[data]]\n",
      "File \u001b[1;32m~\\Anaconda3\\lib\\site-packages\\gensim\\corpora\\dictionary.py:78\u001b[0m, in \u001b[0;36mDictionary.__init__\u001b[1;34m(self, documents, prune_at)\u001b[0m\n\u001b[0;32m     75\u001b[0m \u001b[38;5;28mself\u001b[39m\u001b[38;5;241m.\u001b[39mnum_nnz \u001b[38;5;241m=\u001b[39m \u001b[38;5;241m0\u001b[39m\n\u001b[0;32m     77\u001b[0m \u001b[38;5;28;01mif\u001b[39;00m documents \u001b[38;5;129;01mis\u001b[39;00m \u001b[38;5;129;01mnot\u001b[39;00m \u001b[38;5;28;01mNone\u001b[39;00m:\n\u001b[1;32m---> 78\u001b[0m     \u001b[38;5;28;43mself\u001b[39;49m\u001b[38;5;241;43m.\u001b[39;49m\u001b[43madd_documents\u001b[49m\u001b[43m(\u001b[49m\u001b[43mdocuments\u001b[49m\u001b[43m,\u001b[49m\u001b[43m \u001b[49m\u001b[43mprune_at\u001b[49m\u001b[38;5;241;43m=\u001b[39;49m\u001b[43mprune_at\u001b[49m\u001b[43m)\u001b[49m\n\u001b[0;32m     79\u001b[0m     \u001b[38;5;28mself\u001b[39m\u001b[38;5;241m.\u001b[39madd_lifecycle_event(\n\u001b[0;32m     80\u001b[0m         \u001b[38;5;124m\"\u001b[39m\u001b[38;5;124mcreated\u001b[39m\u001b[38;5;124m\"\u001b[39m,\n\u001b[0;32m     81\u001b[0m         msg\u001b[38;5;241m=\u001b[39m\u001b[38;5;124mf\u001b[39m\u001b[38;5;124m\"\u001b[39m\u001b[38;5;124mbuilt \u001b[39m\u001b[38;5;132;01m{\u001b[39;00m\u001b[38;5;28mself\u001b[39m\u001b[38;5;132;01m}\u001b[39;00m\u001b[38;5;124m from \u001b[39m\u001b[38;5;132;01m{\u001b[39;00m\u001b[38;5;28mself\u001b[39m\u001b[38;5;241m.\u001b[39mnum_docs\u001b[38;5;132;01m}\u001b[39;00m\u001b[38;5;124m documents (total \u001b[39m\u001b[38;5;132;01m{\u001b[39;00m\u001b[38;5;28mself\u001b[39m\u001b[38;5;241m.\u001b[39mnum_pos\u001b[38;5;132;01m}\u001b[39;00m\u001b[38;5;124m corpus positions)\u001b[39m\u001b[38;5;124m\"\u001b[39m,\n\u001b[0;32m     82\u001b[0m     )\n",
      "File \u001b[1;32m~\\Anaconda3\\lib\\site-packages\\gensim\\corpora\\dictionary.py:202\u001b[0m, in \u001b[0;36mDictionary.add_documents\u001b[1;34m(self, documents, prune_at)\u001b[0m\n\u001b[0;32m    199\u001b[0m         logger\u001b[38;5;241m.\u001b[39minfo(\u001b[38;5;124m\"\u001b[39m\u001b[38;5;124madding document #\u001b[39m\u001b[38;5;132;01m%i\u001b[39;00m\u001b[38;5;124m to \u001b[39m\u001b[38;5;132;01m%s\u001b[39;00m\u001b[38;5;124m\"\u001b[39m, docno, \u001b[38;5;28mself\u001b[39m)\n\u001b[0;32m    201\u001b[0m     \u001b[38;5;66;03m# update Dictionary with the document\u001b[39;00m\n\u001b[1;32m--> 202\u001b[0m     \u001b[38;5;28;43mself\u001b[39;49m\u001b[38;5;241;43m.\u001b[39;49m\u001b[43mdoc2bow\u001b[49m\u001b[43m(\u001b[49m\u001b[43mdocument\u001b[49m\u001b[43m,\u001b[49m\u001b[43m \u001b[49m\u001b[43mallow_update\u001b[49m\u001b[38;5;241;43m=\u001b[39;49m\u001b[38;5;28;43;01mTrue\u001b[39;49;00m\u001b[43m)\u001b[49m  \u001b[38;5;66;03m# ignore the result, here we only care about updating token ids\u001b[39;00m\n\u001b[0;32m    204\u001b[0m logger\u001b[38;5;241m.\u001b[39minfo(\u001b[38;5;124m\"\u001b[39m\u001b[38;5;124mbuilt \u001b[39m\u001b[38;5;132;01m%s\u001b[39;00m\u001b[38;5;124m from \u001b[39m\u001b[38;5;132;01m%i\u001b[39;00m\u001b[38;5;124m documents (total \u001b[39m\u001b[38;5;132;01m%i\u001b[39;00m\u001b[38;5;124m corpus positions)\u001b[39m\u001b[38;5;124m\"\u001b[39m, \u001b[38;5;28mself\u001b[39m, \u001b[38;5;28mself\u001b[39m\u001b[38;5;241m.\u001b[39mnum_docs, \u001b[38;5;28mself\u001b[39m\u001b[38;5;241m.\u001b[39mnum_pos)\n",
      "File \u001b[1;32m~\\Anaconda3\\lib\\site-packages\\gensim\\corpora\\dictionary.py:239\u001b[0m, in \u001b[0;36mDictionary.doc2bow\u001b[1;34m(self, document, allow_update, return_missing)\u001b[0m\n\u001b[0;32m    207\u001b[0m \u001b[38;5;124;03m\"\"\"Convert `document` into the bag-of-words (BoW) format = list of `(token_id, token_count)` tuples.\u001b[39;00m\n\u001b[0;32m    208\u001b[0m \n\u001b[0;32m    209\u001b[0m \u001b[38;5;124;03mParameters\u001b[39;00m\n\u001b[1;32m   (...)\u001b[0m\n\u001b[0;32m    236\u001b[0m \n\u001b[0;32m    237\u001b[0m \u001b[38;5;124;03m\"\"\"\u001b[39;00m\n\u001b[0;32m    238\u001b[0m \u001b[38;5;28;01mif\u001b[39;00m \u001b[38;5;28misinstance\u001b[39m(document, \u001b[38;5;28mstr\u001b[39m):\n\u001b[1;32m--> 239\u001b[0m     \u001b[38;5;28;01mraise\u001b[39;00m \u001b[38;5;167;01mTypeError\u001b[39;00m(\u001b[38;5;124m\"\u001b[39m\u001b[38;5;124mdoc2bow expects an array of unicode tokens on input, not a single string\u001b[39m\u001b[38;5;124m\"\u001b[39m)\n\u001b[0;32m    241\u001b[0m \u001b[38;5;66;03m# Construct (word, frequency) mapping.\u001b[39;00m\n\u001b[0;32m    242\u001b[0m counter \u001b[38;5;241m=\u001b[39m defaultdict(\u001b[38;5;28mint\u001b[39m)\n",
      "\u001b[1;31mTypeError\u001b[0m: doc2bow expects an array of unicode tokens on input, not a single string"
     ]
    }
   ],
   "source": [
    "input_dict = gensim.corpora.Dictionary(data)\n",
    "input_corpus = [input_dict.doc2bow(token, allow_update=True)]"
   ]
  },
  {
   "cell_type": "code",
   "execution_count": 25,
   "id": "b21387aa",
   "metadata": {},
   "outputs": [
    {
     "data": {
      "text/plain": [
       "array(['c', 'c', 't', 'data'], dtype='<U4')"
      ]
     },
     "execution_count": 25,
     "metadata": {},
     "output_type": "execute_result"
    }
   ],
   "source": [
    "np.array(['c','c','t','data'])"
   ]
  },
  {
   "cell_type": "code",
   "execution_count": 28,
   "id": "f9e27675",
   "metadata": {},
   "outputs": [
    {
     "data": {
      "text/plain": [
       "array(['received', 'an', 'amazon', 'gift', 'card', 'for', 'for', 'taking',\n",
       "       'survey', 'when', 'went', 'to', 'redeem', 'the', 'from', 'amazon',\n",
       "       'com', 'find', 'that', 'you', 'can', 'not', 'use', 'the', 'gift',\n",
       "       'card', 'to', 'get', 'movie', 'ticket', 'gift', 'cards', 'or',\n",
       "       'any', 'other', 'gift', 'cards', 'tried', 'to', 'use', 'the',\n",
       "       'gift', 'card', 'to', 'purchase', 'some', 'ebc', 'brake', 'pads',\n",
       "       'on', 'another', 'site', 'the', 'accepts', 'amazon', 'payments',\n",
       "       'and', 'find', 'you', 'can', 'use', 'an', 'amazon', 'gift', 'card',\n",
       "       'to', 'buy', 'items', 'from', 'another', 'website', 'even', 'if',\n",
       "       'they', 'accept', 'amazon', 'payments', 'if', 'try', 'and', 'get',\n",
       "       'the', 'ebc', 'brake', 'pads', 'from', 'amazon', 'com', 'they',\n",
       "       'are', 'higher', 'in', 'price', 'and', 'amazon', 'does', 'not',\n",
       "       'match', 'pricing', 'so'], dtype='<U15')"
      ]
     },
     "execution_count": 28,
     "metadata": {},
     "output_type": "execute_result"
    }
   ],
   "source": [
    "np.array(data)[:100]"
   ]
  },
  {
   "cell_type": "code",
   "execution_count": 35,
   "id": "283a96c3",
   "metadata": {},
   "outputs": [],
   "source": [
    "import gensim.downloader as api"
   ]
  },
  {
   "cell_type": "code",
   "execution_count": null,
   "id": "5d0cc3d7",
   "metadata": {},
   "outputs": [],
   "source": []
  },
  {
   "cell_type": "code",
   "execution_count": null,
   "id": "3c07e9a9",
   "metadata": {},
   "outputs": [],
   "source": []
  }
 ],
 "metadata": {
  "kernelspec": {
   "display_name": "Python 3 (ipykernel)",
   "language": "python",
   "name": "python3"
  },
  "language_info": {
   "codemirror_mode": {
    "name": "ipython",
    "version": 3
   },
   "file_extension": ".py",
   "mimetype": "text/x-python",
   "name": "python",
   "nbconvert_exporter": "python",
   "pygments_lexer": "ipython3",
   "version": "3.9.12"
  }
 },
 "nbformat": 4,
 "nbformat_minor": 5
}
