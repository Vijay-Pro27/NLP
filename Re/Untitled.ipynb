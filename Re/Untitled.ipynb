{
 "cells": [
  {
   "cell_type": "code",
   "execution_count": 1,
   "id": "9c993490",
   "metadata": {},
   "outputs": [],
   "source": [
    "import re"
   ]
  },
  {
   "cell_type": "code",
   "execution_count": 8,
   "id": "10d0bfa1",
   "metadata": {},
   "outputs": [
    {
     "name": "stdout",
     "output_type": "stream",
     "text": [
      "path: C:\\desktop\n",
      "aveen\n"
     ]
    }
   ],
   "source": [
    "#noram string\n",
    "path =\"C:\\desktop\\naveen\"\n",
    "print(\"path:\", path)"
   ]
  },
  {
   "cell_type": "code",
   "execution_count": null,
   "id": "5d5dac4b",
   "metadata": {},
   "outputs": [],
   "source": [
    "#raw string\n",
    "#to resolve this issue, now we use the “r” expression to create a raw string:\n",
    "path =r\"C:\\desktop\\naveen\"\n",
    "print(\"path:\", path)"
   ]
  },
  {
   "cell_type": "markdown",
   "id": "b03e55e7",
   "metadata": {},
   "source": [
    "# Common Regex Functions used in NLP\n",
    "To work with Regular Expressions, Python has a built-in module known as “re”. Some common functions from this module are as follows:\n",
    "\n",
    "* __re.search()__\n",
    "* __re.match()__\n",
    "* __re.sub()__\n",
    "* __re.compile()__\n",
    "* __re.findall()__\n",
    "\n",
    "Let us look at each function with the help of an example:"
   ]
  },
  {
   "cell_type": "markdown",
   "id": "7787e2d1",
   "metadata": {},
   "source": [
    "## re. search( )\n",
    "This function helps us to detect whether the given regular expression pattern is present in the given input string. It matches the first occurrence of a pattern in the entire string and not just at the beginning. It returns a Regex Object if the pattern is found in the string, else it returns a None object.\n",
    "\n",
    "__Syntax: re.search(patterns, string)__"
   ]
  },
  {
   "cell_type": "code",
   "execution_count": 16,
   "id": "0af26539",
   "metadata": {},
   "outputs": [
    {
     "name": "stdout",
     "output_type": "stream",
     "text": [
      "<re.Match object; span=(26, 33), match='Founder'>\n",
      "Founder\n"
     ]
    }
   ],
   "source": [
    "result = re.search('founder', r'Kunal Jain is the CEO and Founder of Analytics Vidhya')\n",
    "print(result)\n",
    "print(result.group())"
   ]
  },
  {
   "cell_type": "markdown",
   "id": "820c8ab0",
   "metadata": {},
   "source": [
    "__‘re.I’__ — to ignore the case (either uppercase or lowercase) of the text\n",
    "\n",
    "__'re.M'__ — enables to search the string in multiple lines\n",
    "\n",
    "__re.search(pattern, string, flags=re.I | re.M)__"
   ]
  },
  {
   "cell_type": "code",
   "execution_count": 18,
   "id": "5b116ac9",
   "metadata": {
    "scrolled": true
   },
   "outputs": [
    {
     "name": "stdout",
     "output_type": "stream",
     "text": [
      "<re.Match object; span=(26, 33), match='Founder'>\n",
      "Founder\n"
     ]
    }
   ],
   "source": [
    "result = re.search('founder', r'Kunal Jain is the CEO and Founder of Analytics Vidhya', flags=re.I|re.M)\n",
    "print(result)\n",
    "print(result.group())"
   ]
  },
  {
   "cell_type": "markdown",
   "id": "da4253f8",
   "metadata": {},
   "source": [
    "# re.match( )\n",
    "This function will only match the string if the pattern is present at the very start of the string.\n",
    "\n",
    "__Syntax: re.match(patterns, string)__"
   ]
  },
  {
   "cell_type": "code",
   "execution_count": 20,
   "id": "6f02e0a5",
   "metadata": {},
   "outputs": [
    {
     "name": "stdout",
     "output_type": "stream",
     "text": [
      "<re.Match object; span=(0, 9), match='Analytics'>\n",
      "Analytics\n"
     ]
    }
   ],
   "source": [
    "result = re.match('Analytics', r'Analytics Vidhya is the largest data Scientists community')\n",
    "print(result)\n",
    "print(result.group())"
   ]
  },
  {
   "cell_type": "markdown",
   "id": "a679ef4d",
   "metadata": {},
   "source": [
    "Here as you can notice, our pattern(Scientists) is not present at the beginning of the string, hence we got None as our output."
   ]
  },
  {
   "cell_type": "code",
   "execution_count": 21,
   "id": "1686f805",
   "metadata": {},
   "outputs": [
    {
     "name": "stdout",
     "output_type": "stream",
     "text": [
      "None\n"
     ]
    }
   ],
   "source": [
    "result = re.match('Scientist', r'Analytics Vidhya is the largest data Scientists community')\n",
    "print(result)"
   ]
  },
  {
   "cell_type": "markdown",
   "id": "7fe49ae4",
   "metadata": {},
   "source": [
    "# re.sub( )\n",
    "This function is used to substitute a substring with another substring.\n",
    "\n",
    "__Syntax: re.sub(patterns, Substitute, Input text)__"
   ]
  },
  {
   "cell_type": "code",
   "execution_count": 23,
   "id": "03c42121",
   "metadata": {},
   "outputs": [
    {
     "name": "stdout",
     "output_type": "stream",
     "text": [
      "abc abcd abc abcd\n"
     ]
    }
   ],
   "source": [
    "string = \"abc xxx abc yyy\"\n",
    "new_string = re.sub(r\"xxx|yyy\", \"abcd\", string)\n",
    "print(new_string)"
   ]
  },
  {
   "attachments": {},
   "cell_type": "markdown",
   "id": "a0846721",
   "metadata": {},
   "source": [
    "# re.compile( )\n",
    "This function stores the regular expression pattern in the cache memory for faster searches. So, we have to pass the regex pattern to re.compile() function.\n",
    "\n",
    "__Syntax: re.compile(patterns, repl, string)__"
   ]
  },
  {
   "cell_type": "code",
   "execution_count": 25,
   "id": "8cc98fd4",
   "metadata": {},
   "outputs": [
    {
     "name": "stdout",
     "output_type": "stream",
     "text": [
      "['Analytics', 'Analytics']\n",
      "['Analytics']\n"
     ]
    }
   ],
   "source": [
    "pattern = re.compile('Analytics')\n",
    "result1 = pattern.findall('Analytics Vidhya teaches Analytics')\n",
    "print(result1)\n",
    "result2 = pattern.findall('Analytics Vidhya is most popular website for Data Science')\n",
    "print(result2)"
   ]
  },
  {
   "cell_type": "code",
   "execution_count": 27,
   "id": "8626f77c",
   "metadata": {},
   "outputs": [
    {
     "name": "stdout",
     "output_type": "stream",
     "text": [
      "['Analytics', 'analytics']\n",
      "['Analytics']\n"
     ]
    }
   ],
   "source": [
    "pattern = re.compile('Analytics', flags=re.I|re.M)\n",
    "result1 = pattern.findall('Analytics Vidhya teaches analytics')\n",
    "print(result1)\n",
    "result2 = pattern.findall('Analytics Vidhya is most popular website for Data Science')\n",
    "print(result2)"
   ]
  },
  {
   "cell_type": "markdown",
   "id": "1c27c526",
   "metadata": {},
   "source": [
    "# re.findall( )\n",
    "This function will return all the occurrences of the pattern from the string. I would recommend you to always use re.findall(). It can work like both re.search() and re.match(). Therefore, the result of the findall() function is a list of all the matches.\n",
    "\n",
    "__Syntax: re.findall(patterns, string)__"
   ]
  },
  {
   "cell_type": "code",
   "execution_count": 29,
   "id": "0c13f98b",
   "metadata": {},
   "outputs": [
    {
     "name": "stdout",
     "output_type": "stream",
     "text": [
      "['founded', 'Founded']\n"
     ]
    }
   ],
   "source": [
    "result = re.findall(\"founded\",r\"Andrew NG founded Couresra. He also Founded deeplearning.ai\", flags=re.I|re.M)\n",
    "print(result)"
   ]
  },
  {
   "cell_type": "code",
   "execution_count": null,
   "id": "4905b68e",
   "metadata": {},
   "outputs": [],
   "source": []
  }
 ],
 "metadata": {
  "kernelspec": {
   "display_name": "Python 3 (ipykernel)",
   "language": "python",
   "name": "python3"
  },
  "language_info": {
   "codemirror_mode": {
    "name": "ipython",
    "version": 3
   },
   "file_extension": ".py",
   "mimetype": "text/x-python",
   "name": "python",
   "nbconvert_exporter": "python",
   "pygments_lexer": "ipython3",
   "version": "3.9.12"
  }
 },
 "nbformat": 4,
 "nbformat_minor": 5
}
